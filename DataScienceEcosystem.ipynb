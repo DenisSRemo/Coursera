{
 "cells": [
  {
   "cell_type": "markdown",
   "id": "daf4cf26-cc22-4deb-9bfd-53a85f1d02bd",
   "metadata": {},
   "source": [
    "# Data Science Tools and Ecosystem"
   ]
  },
  {
   "cell_type": "code",
   "execution_count": null,
   "id": "9c648593-5196-408d-bdca-9c0df118eed6",
   "metadata": {},
   "outputs": [],
   "source": [
    "In this notebook, Data Science Tools and Ecosystem are summarized."
   ]
  },
  {
   "cell_type": "markdown",
   "id": "70535299-d96c-4df2-b513-db5c8457904e",
   "metadata": {},
   "source": [
    "Objectives:\n",
    "    \n",
    "    -List popular languages for Data Science\n",
    "    -List commonly used libraries \n",
    "    -Write examples of evaluating arithmetic expressions in Python"
   ]
  },
  {
   "cell_type": "markdown",
   "id": "755ca72e-2007-40f5-9c29-e4aec1e0b985",
   "metadata": {},
   "source": [
    "Some of the popular languages that Data Scientists use are:\n",
    "    \n",
    "    1. Python\n",
    "    2. R\n",
    "    3. SQL"
   ]
  },
  {
   "cell_type": "markdown",
   "id": "a1a8fe18-dd79-4561-b3f4-98b3aec60837",
   "metadata": {},
   "source": [
    "Some of the commonly used libraries used by Data Scientists include:\n",
    "    \n",
    "    1. NumPy\n",
    "    2. Pandas\n",
    "    3. TensorFlow"
   ]
  },
  {
   "cell_type": "markdown",
   "id": "1e309170-db4b-4fbf-a37f-fc6a15b29a1d",
   "metadata": {},
   "source": [
    "\n",
    "| Data Science Tools |\n",
    "| -------------|\n",
    "| Jupyter Notebooks | \n",
    "| Pytorch | \n",
    "| MLFlow | "
   ]
  },
  {
   "cell_type": "markdown",
   "id": "8a28f915-7fbd-4972-8634-6e139eac7035",
   "metadata": {},
   "source": [
    "### Below are a few examples of evaluating arithmetic expressions in Python"
   ]
  },
  {
   "cell_type": "code",
   "execution_count": 2,
   "id": "d00c8c2e-9e62-445a-bb32-dff0310b8b93",
   "metadata": {},
   "outputs": [
    {
     "data": {
      "text/plain": [
       "17"
      ]
     },
     "execution_count": 2,
     "metadata": {},
     "output_type": "execute_result"
    }
   ],
   "source": [
    "#This a simple arithmetic expression to mutiply then add integers\n",
    "(3*4)+5"
   ]
  },
  {
   "cell_type": "code",
   "execution_count": 5,
   "id": "d627b08b-bc8f-4315-aca6-3c592e20b6f7",
   "metadata": {},
   "outputs": [
    {
     "data": {
      "text/plain": [
       "3.3333333333333335"
      ]
     },
     "execution_count": 5,
     "metadata": {},
     "output_type": "execute_result"
    }
   ],
   "source": [
    "#This will convert 200 minutes to hours by diving by 60\n",
    "200/60"
   ]
  },
  {
   "cell_type": "markdown",
   "id": "7568e480-50aa-4cb5-81f7-79a478787dbe",
   "metadata": {},
   "source": [
    "## Author\n",
    "   Denis Remo"
   ]
  },
  {
   "cell_type": "code",
   "execution_count": null,
   "id": "6e43f901-a2d2-45a4-9d4f-657d392f817a",
   "metadata": {},
   "outputs": [],
   "source": []
  }
 ],
 "metadata": {
  "kernelspec": {
   "display_name": "Python 3",
   "language": "python",
   "name": "python3"
  },
  "language_info": {
   "codemirror_mode": {
    "name": "ipython",
    "version": 3
   },
   "file_extension": ".py",
   "mimetype": "text/x-python",
   "name": "python",
   "nbconvert_exporter": "python",
   "pygments_lexer": "ipython3",
   "version": "3.8.8"
  }
 },
 "nbformat": 4,
 "nbformat_minor": 5
}
